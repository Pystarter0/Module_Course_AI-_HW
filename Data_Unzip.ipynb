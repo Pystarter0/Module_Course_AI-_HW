{
 "cells": [
  {
   "cell_type": "code",
   "execution_count": null,
   "id": "5dfd2a0d",
   "metadata": {},
   "outputs": [],
   "source": [
    "import zipfile\n",
    "import os\n",
    "\n",
    "# 設定壓縮檔路徑與解壓目的地\n",
    "zip_path = \"C40_FF++.zip\"  # 替換成你的檔案名稱\n",
    "extract_path = \"./C40_FF++\"\n",
    "\n",
    "# 解壓縮\n",
    "with zipfile.ZipFile(zip_path, 'r') as zip_ref:\n",
    "    zip_ref.extractall(extract_path)\n",
    "\n",
    "print(f\"解壓完成，資料存於: {extract_path}\")\n"
   ]
  }
 ],
 "metadata": {
  "language_info": {
   "name": "python"
  }
 },
 "nbformat": 4,
 "nbformat_minor": 5
}
